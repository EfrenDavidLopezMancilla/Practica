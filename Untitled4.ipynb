{
  "nbformat": 4,
  "nbformat_minor": 0,
  "metadata": {
    "colab": {
      "name": "Untitled4.ipynb",
      "provenance": [],
      "authorship_tag": "ABX9TyPR45XGyjK5nGY1ksangkRu",
      "include_colab_link": true
    },
    "kernelspec": {
      "name": "python3",
      "display_name": "Python 3"
    },
    "language_info": {
      "name": "python"
    }
  },
  "cells": [
    {
      "cell_type": "markdown",
      "metadata": {
        "id": "view-in-github",
        "colab_type": "text"
      },
      "source": [
        "<a href=\"https://colab.research.google.com/github/EfrenDavidLopezMancilla/Practica/blob/main/Untitled4.ipynb\" target=\"_parent\"><img src=\"https://colab.research.google.com/assets/colab-badge.svg\" alt=\"Open In Colab\"/></a>"
      ]
    },
    {
      "cell_type": "markdown",
      "source": [
        "### Uso de la funcion def\n",
        "\n",
        "### Elaborado Por Efren David Lopez Mancilla 23/08/22"
      ],
      "metadata": {
        "id": "gHIPA6QjOhhq"
      }
    },
    {
      "cell_type": "code",
      "execution_count": 1,
      "metadata": {
        "colab": {
          "base_uri": "https://localhost:8080/"
        },
        "id": "XDHIUxw1OS3W",
        "outputId": "4eee3fc2-a148-4d63-aad5-7a2fba6b8277"
      },
      "outputs": [
        {
          "output_type": "stream",
          "name": "stdout",
          "text": [
            "Escribe tu nombreefren\n",
            "Hola efren como estas\n"
          ]
        }
      ],
      "source": [
        "def holaMundo():\n",
        "  nombre=input(\"Escribe tu nombre\")\n",
        "  print(\"Hola\", nombre, \"como estas\")\n",
        "\n",
        "holaMundo()"
      ]
    },
    {
      "cell_type": "markdown",
      "source": [
        "## Mismo Ejercicio pero con paso de parametros"
      ],
      "metadata": {
        "id": "0wUT6oD_P7Sx"
      }
    },
    {
      "cell_type": "code",
      "source": [
        "\n",
        "def Saludo(nombre):\n",
        "    print(\"Hola\", nombre, \"como estas\") \n",
        "\n",
        "#nombre = input (\"Escribe tu nombre\")\n",
        "Saludo(\"Efren David Lopez Mancilla\")\n",
        "nombre = input (\"Escribe tu nombre\")\n",
        "Saludo(nombre)"
      ],
      "metadata": {
        "colab": {
          "base_uri": "https://localhost:8080/"
        },
        "id": "f6ZLrihYPhjX",
        "outputId": "c956310c-ef79-4d14-d3ed-def9bf5715ed"
      },
      "execution_count": 5,
      "outputs": [
        {
          "output_type": "stream",
          "name": "stdout",
          "text": [
            "Hola Efren David Lopez Mancilla como estas\n",
            "Escribe tu nombrefernando\n",
            "Hola fernando como estas\n"
          ]
        }
      ]
    }
  ]
}