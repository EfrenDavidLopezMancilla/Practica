{
  "nbformat": 4,
  "nbformat_minor": 0,
  "metadata": {
    "colab": {
      "name": "Untitled2.ipynb",
      "provenance": [],
      "authorship_tag": "ABX9TyORuZQwuQdgicaokhNAx5XJ",
      "include_colab_link": true
    },
    "kernelspec": {
      "name": "python3",
      "display_name": "Python 3"
    },
    "language_info": {
      "name": "python"
    }
  },
  "cells": [
    {
      "cell_type": "markdown",
      "metadata": {
        "id": "view-in-github",
        "colab_type": "text"
      },
      "source": [
        "<a href=\"https://colab.research.google.com/github/EfrenDavidLopezMancilla/Practica/blob/main/Untitled2.ipynb\" target=\"_parent\"><img src=\"https://colab.research.google.com/assets/colab-badge.svg\" alt=\"Open In Colab\"/></a>"
      ]
    },
    {
      "cell_type": "markdown",
      "source": [
        "# Pedir un numero y imprimir la tabla  de multiplicar de ese numero Elaborado Por Efren David Lopez Mancilla 23/08/22\n"
      ],
      "metadata": {
        "id": "pJFtt5QEFBju"
      }
    },
    {
      "cell_type": "code",
      "source": [
        "i = int(input(\"Escribe un numero de 1 al 10\"))\n",
        "for n in range(1, 11):\n",
        "  print(n, \"1x\", i, \"=\", n*i)"
      ],
      "metadata": {
        "colab": {
          "base_uri": "https://localhost:8080/"
        },
        "id": "y1aP-kd7FcVK",
        "outputId": "e03ff432-73da-406c-ac71-51743db40ed5"
      },
      "execution_count": 2,
      "outputs": [
        {
          "output_type": "stream",
          "name": "stdout",
          "text": [
            "Escribe un numero de 1 al 105\n",
            "1 1x 5 = 5\n",
            "2 1x 5 = 10\n",
            "3 1x 5 = 15\n",
            "4 1x 5 = 20\n",
            "5 1x 5 = 25\n",
            "6 1x 5 = 30\n",
            "7 1x 5 = 35\n",
            "8 1x 5 = 40\n",
            "9 1x 5 = 45\n",
            "10 1x 5 = 50\n"
          ]
        }
      ]
    }
  ]
}