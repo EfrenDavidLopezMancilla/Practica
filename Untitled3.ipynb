{
  "nbformat": 4,
  "nbformat_minor": 0,
  "metadata": {
    "colab": {
      "name": "Untitled3.ipynb",
      "provenance": [],
      "authorship_tag": "ABX9TyMOLhUHWoCNAZa+88SwxXG1",
      "include_colab_link": true
    },
    "kernelspec": {
      "name": "python3",
      "display_name": "Python 3"
    },
    "language_info": {
      "name": "python"
    }
  },
  "cells": [
    {
      "cell_type": "markdown",
      "metadata": {
        "id": "view-in-github",
        "colab_type": "text"
      },
      "source": [
        "<a href=\"https://colab.research.google.com/github/EfrenDavidLopezMancilla/Practica/blob/main/Untitled3.ipynb\" target=\"_parent\"><img src=\"https://colab.research.google.com/assets/colab-badge.svg\" alt=\"Open In Colab\"/></a>"
      ]
    },
    {
      "cell_type": "code",
      "execution_count": 8,
      "metadata": {
        "colab": {
          "base_uri": "https://localhost:8080/"
        },
        "id": "tYzJUbghJXti",
        "outputId": "79bbea16-88c0-4ee2-d480-943816444ac3"
      },
      "outputs": [
        {
          "output_type": "stream",
          "name": "stdout",
          "text": [
            "Escribe la tabla2\n",
            "2 1x 1 = 2\n",
            "2 1x 2 = 4\n",
            "2 1x 3 = 6\n",
            "2 1x 4 = 8\n",
            "2 1x 5 = 10\n",
            "2 1x 6 = 12\n",
            "2 1x 7 = 14\n",
            "2 1x 8 = 16\n",
            "2 1x 9 = 18\n",
            "2 1x 10 = 20\n"
          ]
        }
      ],
      "source": [
        "i = 1\n",
        "m = int(input (\"Escribe la tabla\")) \n",
        "while (i!=11):\n",
        "  print(m, \"1x\", i, \"=\", m*i)\n",
        "  i=i+1\n",
        "\n",
        "  "
      ]
    }
  ]
}