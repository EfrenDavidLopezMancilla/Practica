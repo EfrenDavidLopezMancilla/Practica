{
  "nbformat": 4,
  "nbformat_minor": 0,
  "metadata": {
    "colab": {
      "name": "Untitled1.ipynb",
      "provenance": [],
      "authorship_tag": "ABX9TyO5NQR52xbfpMSkf2wsWRmS",
      "include_colab_link": true
    },
    "kernelspec": {
      "name": "python3",
      "display_name": "Python 3"
    },
    "language_info": {
      "name": "python"
    }
  },
  "cells": [
    {
      "cell_type": "markdown",
      "metadata": {
        "id": "view-in-github",
        "colab_type": "text"
      },
      "source": [
        "<a href=\"https://colab.research.google.com/github/EfrenDavidLopezMancilla/Practica/blob/main/Untitled1.ipynb\" target=\"_parent\"><img src=\"https://colab.research.google.com/assets/colab-badge.svg\" alt=\"Open In Colab\"/></a>"
      ]
    },
    {
      "cell_type": "markdown",
      "source": [
        "### Primer programa de Hola Mundo"
      ],
      "metadata": {
        "id": "Ysb0Toj_BTy2"
      }
    },
    {
      "cell_type": "markdown",
      "source": [
        "# Solicitamos el nombre del usuario, y lo saludamos\n",
        "\n",
        "# Elaborado Por Efren David Lopez Mancilla 23/08/22"
      ],
      "metadata": {
        "id": "EuADPDFqBb3X"
      }
    },
    {
      "cell_type": "code",
      "source": [
        "nombreAlumno = input(\"Escribe tu nombre\")\n",
        "print(\"Hola \", nombreAlumno, \"Hola como estas\")"
      ],
      "metadata": {
        "colab": {
          "base_uri": "https://localhost:8080/"
        },
        "id": "z8CVDyi0EJpo",
        "outputId": "1c1684cc-0d8f-4c9b-f817-5d72003c9a7c"
      },
      "execution_count": 2,
      "outputs": [
        {
          "output_type": "stream",
          "name": "stdout",
          "text": [
            "Escribe tu nombreefren\n",
            "Hola  efren Hola como estas\n"
          ]
        }
      ]
    }
  ]
}