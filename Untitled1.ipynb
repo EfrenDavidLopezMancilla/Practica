{
  "nbformat": 4,
  "nbformat_minor": 0,
  "metadata": {
    "colab": {
      "name": "Untitled1.ipynb",
      "provenance": [],
      "authorship_tag": "ABX9TyOExFQ4NM3e6YqFt4gUhyJ4",
      "include_colab_link": true
    },
    "kernelspec": {
      "name": "python3",
      "display_name": "Python 3"
    },
    "language_info": {
      "name": "python"
    }
  },
  "cells": [
    {
      "cell_type": "markdown",
      "metadata": {
        "id": "view-in-github",
        "colab_type": "text"
      },
      "source": [
        "<a href=\"https://colab.research.google.com/github/EfrenDavidLopezMancilla/Practica/blob/main/Untitled1.ipynb\" target=\"_parent\"><img src=\"https://colab.research.google.com/assets/colab-badge.svg\" alt=\"Open In Colab\"/></a>"
      ]
    },
    {
      "cell_type": "markdown",
      "source": [
        "### Primer programa de Hola Mundo"
      ],
      "metadata": {
        "id": "Ysb0Toj_BTy2"
      }
    },
    {
      "cell_type": "markdown",
      "source": [
        "# Solicitamos el nombre del usuario, y lo saludamos\n",
        "\n",
        "# Elaborado Por Efren David Lopez Mancilla 23/08/22"
      ],
      "metadata": {
        "id": "EuADPDFqBb3X"
      }
    },
    {
      "cell_type": "code",
      "source": [
        "nombreAlumno = imput(\"Escribe tu nombre\")\n",
        "print(\"Hola \", nombreAlumno, \"Hola como estas\")"
      ],
      "metadata": {
        "id": "z8CVDyi0EJpo"
      },
      "execution_count": null,
      "outputs": []
    }
  ]
}