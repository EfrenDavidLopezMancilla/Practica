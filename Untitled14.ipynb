{
  "nbformat": 4,
  "nbformat_minor": 0,
  "metadata": {
    "colab": {
      "provenance": [],
      "authorship_tag": "ABX9TyP3+SK7y63ZEe7abZcg4tm0",
      "include_colab_link": true
    },
    "kernelspec": {
      "name": "python3",
      "display_name": "Python 3"
    },
    "language_info": {
      "name": "python"
    }
  },
  "cells": [
    {
      "cell_type": "markdown",
      "metadata": {
        "id": "view-in-github",
        "colab_type": "text"
      },
      "source": [
        "<a href=\"https://colab.research.google.com/github/EfrenDavidLopezMancilla/Practica/blob/main/Untitled14.ipynb\" target=\"_parent\"><img src=\"https://colab.research.google.com/assets/colab-badge.svg\" alt=\"Open In Colab\"/></a>"
      ]
    },
    {
      "cell_type": "code",
      "execution_count": 4,
      "metadata": {
        "colab": {
          "base_uri": "https://localhost:8080/"
        },
        "id": "uOOShVIv4deo",
        "outputId": "f538e788-0ba5-44a8-aae0-523523e49719"
      },
      "outputs": [
        {
          "output_type": "stream",
          "name": "stdout",
          "text": [
            "fdfdsfholaminombreesefren\n",
            "['holaminombreesefren']\n",
            "20\n"
          ]
        }
      ],
      "source": [
        "texto= input(\"fdfdsf\")\n",
        "#texto= (\"La programación basada en texto o textual se refiere a la secuencia de instrucciones que componen un algoritmo escritas en un lenguaje de programación determinado, basado en las normas establecidas en el propio lenguaje\")\n",
        "arreglo= texto.split()\n",
        "print(arreglo)\n",
        "\n",
        "\n",
        "for i in texto:\n",
        "  arreglo.append(i)\n",
        "print(len(arreglo))\n"
      ]
    }
  ]
}